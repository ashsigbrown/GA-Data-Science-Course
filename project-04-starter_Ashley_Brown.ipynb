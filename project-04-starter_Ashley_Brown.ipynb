{
 "cells": [
  {
   "cell_type": "markdown",
   "metadata": {},
   "source": [
    "# Project 4\n",
    "\n",
    "In this project, you will summarize and present your analysis from Projects 1-3."
   ]
  },
  {
   "cell_type": "markdown",
   "metadata": {},
   "source": [
    "### Intro: Write a problem Statement/ Specific Aim for this project"
   ]
  },
  {
   "cell_type": "markdown",
   "metadata": {},
   "source": [
    "Answer: Determine if there is an association between graduate school admission and the prestige of a student's undergraduate school using data from the UCLA admissions data set."
   ]
  },
  {
   "cell_type": "markdown",
   "metadata": {},
   "source": [
    "### Dataset:  Write up a description of your data and any cleaning that was completed"
   ]
  },
  {
   "cell_type": "markdown",
   "metadata": {},
   "source": [
    "Answer: Data contains the following variables: \n",
    "\n",
    "Variable | Description | Type of Variable\n",
    "---| ---| ---\n",
    "Admit| 0 = not admitted 1 = admitted | categorical\n",
    "GRE | GRE score 200-800 | continuous \n",
    "GPA | GPA 0-4.0 | continuous\n",
    "Prestige | 1= not prestigious 2 = low prestige 3= good prestige 4= high prestige | categorical\n",
    "\n",
    "The data is normally distributed, GPA and GRE are skewed toward the upper ranges but there is no need to correct the distribution. \n",
    "Cleaning: \n",
    "1) The raw dataset contained about 400 observations, removed missing values, leaving a total of 397 observations. Created \n",
    "2) Split prestige into 3 binary fields called dummy variables "
   ]
  },
  {
   "cell_type": "markdown",
   "metadata": {
    "collapsed": true
   },
   "source": [
    "### Demo: Provide a table that explains the data by admission status"
   ]
  },
  {
   "cell_type": "code",
   "execution_count": 39,
   "metadata": {},
   "outputs": [
    {
     "name": "stdout",
     "output_type": "stream",
     "text": [
      "admit      0   1\n",
      "prestige        \n",
      "1.0       28  33\n",
      "2.0       95  53\n",
      "3.0       93  28\n",
      "4.0       55  12\n",
      "618.5714285714286 573.5793357933579 3.4892063492063485 3.347158671586714\n"
     ]
    }
   ],
   "source": [
    "import pandas as pd\n",
    "import numpy as np\n",
    "\n",
    "df_raw = pd.read_csv(\"./datasets/admissions.csv\")\n",
    "df = df_raw.dropna() \n",
    "\n",
    "print(pd.crosstab(df['prestige'], df['admit'], colnames=['admit']))\n",
    "\n",
    "print(df.loc[df['admit']==1]['gre'].mean(),\n",
    "df.loc[df['admit']==0]['gre'].mean(),\n",
    "df.loc[df['admit']==1]['gpa'].mean(),\n",
    "df.loc[df['admit']==0]['gpa'].mean())\n",
    "\n"
   ]
  },
  {
   "cell_type": "markdown",
   "metadata": {},
   "source": [
    "Mean (STD) or counts by admission status for each variable \n",
    "\n",
    "| Not Admitted | Admitted\n",
    "---| ---|---\n",
    "GPA | 3.49  | 3.35\n",
    "GRE |573.6 | 618.6\n",
    "Prestige 1 | 28 | 33\n",
    "Prestige 2 | 95 | 53\n",
    "Prestige 3 |93 | 28\n",
    "Prestige 4 |55 | 12"
   ]
  },
  {
   "cell_type": "markdown",
   "metadata": {},
   "source": [
    "### Methods: Write up the methods used in your analysis"
   ]
  },
  {
   "cell_type": "markdown",
   "metadata": {},
   "source": [
    "Answer:\n",
    "\n",
    "1) Describe() was used to looked at the number of observations and the standard deviation of various variables\n",
    "2) Boxplot was used to view the min, max, median, 25%, 75%, outliers \n",
    "3) .hist was used to see the distribution of the data \n",
    "4) created correlation matrix to test for colinearity \n",
    "5) Utilized logit funciton in statsmodels to perform logistic regression to predict admit using gre, gpa and prestige. Set prestige_1 as reference variable to compare other dummy variables (prestige_2, prestige_3, prestige_4) against. Looked at the CI and odds ratio. \n",
    "6) Used cartesian function to recreate the dataset with every logical combination of inputs to see how the predicted probability of admission increases/decreases across different variables. \n",
    "7) Made predictions using the enumerated dataset \n"
   ]
  },
  {
   "cell_type": "markdown",
   "metadata": {},
   "source": [
    "### Results: Write up your results"
   ]
  },
  {
   "cell_type": "markdown",
   "metadata": {},
   "source": [
    "Answer:\n",
    "1) Standard deviation for GRE is much larger than for GPA because GRE has a much larger range/mean.\n",
    "2) min, max, median, 25%, 75%, outliers\n",
    "3) normal distribution, GPA and GRE are slightly skewed toward the upper ranges\n",
    "4) colinearity is not a concern \n",
    "5) Inverse relationship between the probability of being admitted and undergraduate school rank. Example: Students who attended a tier 2 undergraduate school had 0.50 the odds of being admitted to graduate school compared to students who attend a tier 1 undergraduate school.\n",
    "6 and 7) Given the same GPA and GRE scores, students who attended a tier 4 undergraduate school had a 37% probability of being admitted into grad school, while student who attended a tier 1 school had a 73% likelihood of being admitted into grad school.\n"
   ]
  },
  {
   "cell_type": "markdown",
   "metadata": {},
   "source": [
    "### Visuals: Provide a table or visualization of these results"
   ]
  },
  {
   "cell_type": "markdown",
   "metadata": {},
   "source": [
    "<img src='./images/download.png' height= 25% width= 25%>"
   ]
  },
  {
   "cell_type": "markdown",
   "metadata": {},
   "source": [
    "### Discussion: Write up your discussion and future steps"
   ]
  },
  {
   "cell_type": "markdown",
   "metadata": {},
   "source": [
    "Answer: "
   ]
  }
 ],
 "metadata": {
  "kernelspec": {
   "display_name": "Python 3",
   "language": "python",
   "name": "python3"
  },
  "language_info": {
   "codemirror_mode": {
    "name": "ipython",
    "version": 3
   },
   "file_extension": ".py",
   "mimetype": "text/x-python",
   "name": "python",
   "nbconvert_exporter": "python",
   "pygments_lexer": "ipython3",
   "version": "3.6.4"
  }
 },
 "nbformat": 4,
 "nbformat_minor": 1
}
