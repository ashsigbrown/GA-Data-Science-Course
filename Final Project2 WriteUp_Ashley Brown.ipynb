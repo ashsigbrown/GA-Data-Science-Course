{
 "cells": [
  {
   "cell_type": "markdown",
   "metadata": {},
   "source": [
    "## Project Problem and Hypothesis\n",
    "\n",
    "Tipping Point posts messages on Twitter and Facebook but it is not clear what content drives the greatest engagement (likes and shares). This information will be very helpful in informing our social media strategy and identifying the best use of social media resources. Observing Twitter and Facebook data \n",
    "\n",
    "Hypothesis: Due to the relevance of the topics and what people see day in and day out, I predict that tweets and Facebook posts related to homelessness and housing will drive the greatest engagement. \n",
    "\n",
    "This project will include two parts: 1) building a algorithm to categorize tweets and Facebook posts 2) use regression to evaluate correlation between categories and engagement metrics. "
   ]
  },
  {
   "cell_type": "markdown",
   "metadata": {},
   "source": [
    "## Datasets\n",
    "\n",
    "Datasets from both Twitter and Facebook documenting content of the posts and engagmeent metrics \n",
    "\"Training\" dataset featuring previous blog posts and corresponding categories "
   ]
  },
  {
   "cell_type": "markdown",
   "metadata": {},
   "source": [
    "## Experience \n",
    "\n",
    "I have a general understanding of Facebook and Twitter and the important engagement metrics as well as content knowledge but I am not familiar with using a Twitter API or using a model to categorize the social media posts. \n",
    "\n",
    "This is a very helpful tutorial for the first part of the project that I will reference: http://scikit-learn.org/stable/tutorial/text_analytics/working_with_text_data.html\n",
    "\n",
    "Currently the categorization is done manually in excel and the analysis is done using sorting and crosstabs in excel. "
   ]
  },
  {
   "cell_type": "markdown",
   "metadata": {},
   "source": [
    "## Questions\n",
    "\n",
    "I think I have a good hold on the conceptual aspects of the project and theoretically know what I need to do but am less sure of how to actually set up the data and run the code. \n",
    "\n",
    "What happens if the social media posts match more than one content category?\n",
    "\n",
    "Assumptions: we are only working with our Twitter and Facebook posts so we will just be comparing the various content that Tipping Point posts to one another rather than comparing accross all of the content on these social media platforms "
   ]
  },
  {
   "cell_type": "markdown",
   "metadata": {},
   "source": [
    "## Outcomes\n",
    "\n",
    "I expect to be able to provide our social media lead with a step by step guide for how to run new reports through the \"categorizer\" and with a template for evalauting the correlation between engagement and content category. \n",
    "\n",
    "The social media lead is data savvy and will do well with detailed steps. He will likely need some additional explanation and translation but is someone that will enjoy taking the information and running with it. \n",
    "\n",
    "If the project is a bust, it will still be a good learning opportunity! "
   ]
  },
  {
   "cell_type": "code",
   "execution_count": null,
   "metadata": {},
   "outputs": [],
   "source": []
  }
 ],
 "metadata": {
  "kernelspec": {
   "display_name": "Python 3",
   "language": "python",
   "name": "python3"
  },
  "language_info": {
   "codemirror_mode": {
    "name": "ipython",
    "version": 3
   },
   "file_extension": ".py",
   "mimetype": "text/x-python",
   "name": "python",
   "nbconvert_exporter": "python",
   "pygments_lexer": "ipython3",
   "version": "3.6.4"
  }
 },
 "nbformat": 4,
 "nbformat_minor": 2
}
