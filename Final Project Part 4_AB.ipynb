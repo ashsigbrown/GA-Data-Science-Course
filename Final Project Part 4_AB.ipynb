{
 "cells": [
  {
   "cell_type": "code",
   "execution_count": 3,
   "metadata": {},
   "outputs": [
    {
     "name": "stderr",
     "output_type": "stream",
     "text": [
      "/anaconda3/lib/python3.6/site-packages/statsmodels/compat/pandas.py:56: FutureWarning: The pandas.core.datetools module is deprecated and will be removed in a future version. Please use the pandas.tseries module instead.\n",
      "  from pandas.core import datetools\n"
     ]
    }
   ],
   "source": [
    "from __future__ import division\n",
    "import pandas as pd\n",
    "import numpy as np\n",
    "import matplotlib.pyplot as plt\n",
    "import statsmodels.api as sm\n",
    "import pylab as pl\n",
    "import numpy as np\n",
    "\n",
    "%matplotlib inline"
   ]
  },
  {
   "cell_type": "code",
   "execution_count": 4,
   "metadata": {
    "scrolled": true
   },
   "outputs": [
    {
     "name": "stdout",
     "output_type": "stream",
     "text": [
      "       Tweet id                                    Tweet_permalink  \\\n",
      "0  9.799020e+17  https://twitter.com/tippingpoint/status/979902...   \n",
      "1  9.798700e+17  https://twitter.com/tippingpoint/status/979869...   \n",
      "2  9.798630e+17  https://twitter.com/tippingpoint/status/979862...   \n",
      "3  9.797680e+17  https://twitter.com/tippingpoint/status/979767...   \n",
      "4  9.794570e+17  https://twitter.com/tippingpoint/status/979457...   \n",
      "\n",
      "                                          Tweet_text        Attribute  \\\n",
      "0  Thank you to our #TippingPointGrantees! It's a...  Event Promotion   \n",
      "1  .@NewTeacherCtr's newly released program stand...        Education   \n",
      "2  The majority of our chronically homeless neigh...     Homelessness   \n",
      "3  Congratulations to AD-10 Woman of the Year Luc...      Immigration   \n",
      "4  Thanks for the shout out @New_Sincerity! Our i...       Nonprofits   \n",
      "\n",
      "                     time  impressions  engagements  url clicks  \n",
      "0  2018-03-31 02:05 +0000          980            9           5  \n",
      "1  2018-03-30 23:55 +0000         2676           40           4  \n",
      "2  2018-03-30 23:27 +0000         1352           10           1  \n",
      "3  2018-03-30 17:11 +0000         1018            5           0  \n",
      "4  2018-03-29 20:37 +0000          869            2           0  \n"
     ]
    }
   ],
   "source": [
    "df_raw_tweet = pd.read_csv('./Datasets/Twitter_Training_Data.csv', encoding='latin1')\n",
    "print (df_raw_tweet.head())"
   ]
  },
  {
   "cell_type": "code",
   "execution_count": 7,
   "metadata": {
    "scrolled": true
   },
   "outputs": [
    {
     "ename": "NameError",
     "evalue": "name 'fetch_20newsgroups' is not defined",
     "output_type": "error",
     "traceback": [
      "\u001b[0;31m---------------------------------------------------------------------------\u001b[0m",
      "\u001b[0;31mNameError\u001b[0m                                 Traceback (most recent call last)",
      "\u001b[0;32m<ipython-input-7-67d66ce7ddcb>\u001b[0m in \u001b[0;36m<module>\u001b[0;34m()\u001b[0m\n\u001b[0;32m----> 1\u001b[0;31m \u001b[0mtwenty_train\u001b[0m \u001b[0;34m=\u001b[0m \u001b[0mfetch_20newsgroups\u001b[0m\u001b[0;34m(\u001b[0m\u001b[0msubset\u001b[0m\u001b[0;34m=\u001b[0m\u001b[0;34m'train'\u001b[0m\u001b[0;34m,\u001b[0m \u001b[0mcategories\u001b[0m\u001b[0;34m=\u001b[0m\u001b[0mcategories\u001b[0m\u001b[0;34m,\u001b[0m \u001b[0mshuffle\u001b[0m\u001b[0;34m=\u001b[0m\u001b[0;32mTrue\u001b[0m\u001b[0;34m,\u001b[0m \u001b[0mrandom_state\u001b[0m\u001b[0;34m=\u001b[0m\u001b[0;36m42\u001b[0m\u001b[0;34m)\u001b[0m\u001b[0;34m\u001b[0m\u001b[0m\n\u001b[0m\u001b[1;32m      2\u001b[0m \u001b[0;34m\u001b[0m\u001b[0m\n\u001b[1;32m      3\u001b[0m \u001b[0;31m# print requested category names\u001b[0m\u001b[0;34m\u001b[0m\u001b[0;34m\u001b[0m\u001b[0m\n\u001b[1;32m      4\u001b[0m \u001b[0mprint\u001b[0m\u001b[0;34m(\u001b[0m\u001b[0mtwenty_train\u001b[0m\u001b[0;34m.\u001b[0m\u001b[0mtarget_names\u001b[0m\u001b[0;34m)\u001b[0m\u001b[0;34m\u001b[0m\u001b[0m\n",
      "\u001b[0;31mNameError\u001b[0m: name 'fetch_20newsgroups' is not defined"
     ]
    }
   ],
   "source": [
    "# this is the code in the tutorial\n",
    "twenty_train = fetch_20newsgroups(subset='train', categories=categories, shuffle=True, random_state=42)\n",
    "\n",
    "# print requested category names\n",
    "print(twenty_train.target_names)"
   ]
  },
  {
   "cell_type": "code",
   "execution_count": 7,
   "metadata": {},
   "outputs": [],
   "source": [
    "# this is what I tried to do and it works but I'm not sure if it's the correct way to create an object\n",
    "tweet_train= df_raw_tweet['Tweet_text'].tolist()\n",
    "tweet_target= df_raw_tweet['Attribute'].tolist()"
   ]
  },
  {
   "cell_type": "code",
   "execution_count": null,
   "metadata": {},
   "outputs": [],
   "source": []
  }
 ],
 "metadata": {
  "kernelspec": {
   "display_name": "Python 3",
   "language": "python",
   "name": "python3"
  },
  "language_info": {
   "codemirror_mode": {
    "name": "ipython",
    "version": 3
   },
   "file_extension": ".py",
   "mimetype": "text/x-python",
   "name": "python",
   "nbconvert_exporter": "python",
   "pygments_lexer": "ipython3",
   "version": "3.6.4"
  }
 },
 "nbformat": 4,
 "nbformat_minor": 2
}
