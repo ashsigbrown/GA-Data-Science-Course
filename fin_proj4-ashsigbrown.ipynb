{
 "cells": [
  {
   "cell_type": "markdown",
   "metadata": {},
   "source": [
    "You're not actually using most of these packages (so, I commented them out)..."
   ]
  },
  {
   "cell_type": "code",
   "execution_count": 2,
   "metadata": {},
   "outputs": [],
   "source": [
    "#from __future__ import division\n",
    "import pandas as pd\n",
    "import numpy as np\n",
    "#import matplotlib.pyplot as plt\n",
    "#import statsmodels.api as sm\n",
    "#import pylab as pl\n",
    "#import numpy as np ## This is a duplicate\n",
    "\n",
    "%matplotlib inline"
   ]
  },
  {
   "cell_type": "code",
   "execution_count": 7,
   "metadata": {
    "scrolled": true
   },
   "outputs": [
    {
     "name": "stdout",
     "output_type": "stream",
     "text": [
      "       Tweet id                                    Tweet_permalink  \\\n",
      "0  9.800000e+17  https://twitter.com/tippingpoint/status/979902...   \n",
      "1  9.800000e+17  https://twitter.com/tippingpoint/status/979869...   \n",
      "2  9.800000e+17  https://twitter.com/tippingpoint/status/979862...   \n",
      "3  9.800000e+17  https://twitter.com/tippingpoint/status/979767...   \n",
      "4  9.790000e+17  https://twitter.com/tippingpoint/status/979457...   \n",
      "\n",
      "                                          Tweet_text        Attribute  \\\n",
      "0  Thank you to our #TippingPointGrantees! It's a...  Event Promotion   \n",
      "1  .@NewTeacherCtr's newly released program stand...        Education   \n",
      "2  The majority of our chronically homeless neigh...     Homelessness   \n",
      "3  Congratulations to AD-10 Woman of the Year Luc...      Immigration   \n",
      "4  Thanks for the shout out @New_Sincerity! Our i...       Nonprofits   \n",
      "\n",
      "                     time  impressions  engagements  url clicks  \n",
      "0  2018-03-31 02:05 +0000          980            9           5  \n",
      "1  2018-03-30 23:55 +0000         2676           40           4  \n",
      "2  2018-03-30 23:27 +0000         1352           10           1  \n",
      "3  2018-03-30 17:11 +0000         1018            5           0  \n",
      "4  2018-03-29 20:37 +0000          869            2           0  \n"
     ]
    }
   ],
   "source": [
    "#import Twitter data\n",
    "df_raw_tweet = pd.read_csv('./Datasets/Twitter_Training_Data2.csv', encoding='latin1')\n",
    "print (df_raw_tweet.head())"
   ]
  },
  {
   "cell_type": "code",
   "execution_count": null,
   "metadata": {},
   "outputs": [],
   "source": [
    "#import FB data\n",
    "df_raw_fb = pd.read_csv('./Datasets/Facebook_Training_Data.csv', encoding='latin1')\n",
    "print (df_raw_fb.head())"
   ]
  },
  {
   "cell_type": "markdown",
   "metadata": {},
   "source": [
    "#### Split into test/training groups"
   ]
  },
  {
   "cell_type": "code",
   "execution_count": 8,
   "metadata": {},
   "outputs": [
    {
     "name": "stdout",
     "output_type": "stream",
     "text": [
      "Training set size: 238\n",
      "Test set size: 29\n"
     ]
    }
   ],
   "source": [
    "# Randomly select 90% of df rows\n",
    "msk = np.random.rand(len(df_raw_tweet)) < 0.9\n",
    "\n",
    "# Assign those to the training set\n",
    "df_train = df_raw_tweet[msk] \n",
    "\n",
    "# Assign the remainder to the test set\n",
    "df_test = df_raw_tweet[~msk]\n",
    "\n",
    "# Check and make sure they are the right size\n",
    "print('Training set size: ' + str(len(df_train)))\n",
    "print('Test set size: ' + str(len(df_test)))"
   ]
  },
  {
   "cell_type": "code",
   "execution_count": 9,
   "metadata": {},
   "outputs": [],
   "source": [
    "# this is what I tried to do and it works but I'm not sure if it's the correct way to create an object\n",
    "tweet_train_data = df_train['Tweet_text'].tolist()\n",
    "tweet_train_target = df_train['Attribute'].tolist()\n",
    "\n",
    "tweet_test_data = df_test['Tweet_text'].tolist()\n",
    "tweet_test_target = df_test['Attribute'].tolist()"
   ]
  },
  {
   "cell_type": "markdown",
   "metadata": {},
   "source": [
    "### Extracting features with Bag-of-words\n",
    "\n",
    "Tokenizing text"
   ]
  },
  {
   "cell_type": "code",
   "execution_count": 12,
   "metadata": {},
   "outputs": [
    {
     "data": {
      "text/plain": [
       "(238, 1811)"
      ]
     },
     "execution_count": 12,
     "metadata": {},
     "output_type": "execute_result"
    }
   ],
   "source": [
    "# Load package\n",
    "from sklearn.feature_extraction.text import CountVectorizer\n",
    "\n",
    "# Instantiate model\n",
    "count_vect = CountVectorizer()\n",
    "\n",
    "# Train model (fit and transform)\n",
    "X_train_counts = count_vect.fit_transform(tweet_train_data)\n",
    "X_train_counts.shape"
   ]
  },
  {
   "cell_type": "markdown",
   "metadata": {},
   "source": [
    "### From occurrences to frequencies"
   ]
  },
  {
   "cell_type": "code",
   "execution_count": 13,
   "metadata": {},
   "outputs": [
    {
     "name": "stdout",
     "output_type": "stream",
     "text": [
      "(238, 1811)\n"
     ]
    }
   ],
   "source": [
    "from sklearn.feature_extraction.text import TfidfTransformer\n",
    "\n",
    "tf_transformer = TfidfTransformer(use_idf=False) # instantiate\n",
    "tf_transformer.fit(X_train_counts) # fit our estimator to the data\n",
    "X_train_tf = tf_transformer.transform(X_train_counts) # transform our count-matrix to a tf-idf representation\n",
    "\n",
    "# Or condense the previous two steps into one:\n",
    "tfidf_transformer = TfidfTransformer() # instantiate\n",
    "X_train_tfidf = tfidf_transformer.fit_transform(X_train_counts) # fit AND transform\n",
    "\n",
    "print(X_train_tfidf.shape)"
   ]
  },
  {
   "cell_type": "markdown",
   "metadata": {},
   "source": [
    "### Training a classifier\n",
    "Now that we have our features, we can train a classifier to try to predict the category of a post. Let’s start with a naïve Bayes classifier, which provides a nice baseline for this task."
   ]
  },
  {
   "cell_type": "code",
   "execution_count": 14,
   "metadata": {},
   "outputs": [],
   "source": [
    "# Load package\n",
    "from sklearn.naive_bayes import MultinomialNB\n",
    "\n",
    "# Instantiate and fit the classifier model\n",
    "clf = MultinomialNB().fit(X_train_tfidf, tweet_train_target)"
   ]
  },
  {
   "cell_type": "markdown",
   "metadata": {},
   "source": [
    "To try to predict the outcome on a new document we need to extract the features using `transform` instead of `fit_transform` on the transformers, since they have already been fit to the training set:"
   ]
  },
  {
   "cell_type": "code",
   "execution_count": 15,
   "metadata": {},
   "outputs": [
    {
     "name": "stdout",
     "output_type": "stream",
     "text": [
      "\"For your Sunday listening - Dr. Nadine Burke Harris of @CYWSanFrancisco shares her expertise on managing trauma and stress to minimize their impact on children's long-term health. #TippingPointGrantees #BeATippingPoint\\rhttps://t.co/HsTGrYfxnF\" => Homelessness [Actually: Early Childhood]\n",
      "'What a night! Thank you @TheBonnieRaitt for bringing our community together at @foxoakland to support #NorthBayFire relief. #BeATippingPoint\\rhttps://t.co/9IL7JZO5of' => Fire Relief [Actually: Event Promotion]\n",
      "'At its core, the homelessness crisis results from a lack of affordable housing. @CityLab + @NLIHC reveal the extent of the problem across all 50 states:\\rhttps://t.co/g16BxjGc5J' => Homelessness [Actually: Homelessness]\n",
      "'Ã¢â\\x82¬Å\\x93...the hope is: We built these systems. We can build new ones.Ã¢â\\x82¬Ã¹\\r@c4innovates CEO @jeffolivet cautiously optimistic as he discusses a recent study underlining the relationship between structural racism and homelessness.\\rhttps://t.co/OctNc9uc1K' => Homelessness [Actually: Race]\n",
      "'Ismael balances his roles as student, caregiver for three siblings, and worker--all without stable housing. We must do better for him and thousands like him. @LATimes #BeATippingPoint\\rhttps://t.co/EFPCgKWhl5' => Homelessness [Actually: Homelessness]\n",
      "'Do you or someone you know have questions about rebuilding in the wake of the #NorthBayFires? Our friends at Legal Aid of Sonoma County have answers - this Saturday at 2pm. @PressDemocrat\\rhttps://t.co/aINLlNzLHx' => Homelessness [Actually: Fire Relief]\n",
      "'\"Our children deserve to have teachers and mentors who embody Black excellence and serve as role models.\"\\r\\rPrincipal of @RocketshipEd in Nashville on the importance of diversity + inclusion in our education system. #BeATippingPoint https://t.co/o2l5qhwGP3' => Homelessness [Actually: Race]\n",
      "\"These kids know what it means to #BeATippingPoint! We're proud to co-sponsor #SB918, @SenScottWiener + @AsmBlancaRubio's bill to create a California Office of Homeless Youth and focus $60 million towards ending youth homelessness. @fox5sandiego\\rhttps://t.co/uVVbDq3KCy\" => Homelessness [Actually: Homelessness]\n",
      "'What sets @RocketshipEd apart? Dedicated educators and a spirit of inclusion and opportunity are just the beginning, read more with @NCalNews\\rhttps://t.co/NrZI2k77q6 https://t.co/RQPchZmiaJ' => Homelessness [Actually: Education]\n",
      "\"Chan Zuckerberg's exciting investment in @NewTeacherCtr will lift up Ravenswood educators and help them better-serve their students, 44% of whom identify as homeless. @mercnews https://t.co/AZON7O3Q1P\" => Homelessness [Actually: Education]\n",
      "\"Honoring #BlackHistoryMonth means celebrating people's full stories, especially when they challenge us to do more to fight for racial + economic justice. @Guardian\\rhttps://t.co/EErjapfl5N\" => Homelessness [Actually: Race]\n",
      "'Swinging with @leonbridges at #TippingPointBenefit - beautiful sound on a beautiful night! Thank you to all our guests for your generous support for Bay Area non-profits! #MakePovertyPreventable #BeATippingPoint https://t.co/GbCYLcG9ay' => Homelessness [Actually: event Promotion]\n",
      "'.@Burbank_Housing has begun construction a 50-unit apartment building in Napa, the first new affordable housing since the #NorthBayFires. Proud to sponsor via the Tipping Point Emergency Relief Fund. @NapaRegister #TippingPointGrantees #BeATippingPoint\\rhttps://t.co/7gqTFV9011' => Homelessness [Actually: Fire Relief]\n",
      "'Friends: #SB918 heads to another committee vote tomorrow! Contact your State Senator to support this legislation which will create of an Office of Homeless Youth. #EndYouthHomelessness #BeATippingPoint\\rhttps://t.co/l3W7EiwukK' => Homelessness [Actually: Homelessness]\n",
      "'Black + Latinx people account for 21% of all SF residents but 56% of homeless residents -- we cannot combat homelessness and poverty without confronting the role of racism.\\rhttps://t.co/CPFrcO6H5G' => Homelessness [Actually: Homelessness]\n",
      "'Bipartisan findings from census directors show that a citizenship question would reduce participation in the census and undermine its accuracy. @sfchronicle https://t.co/NAPk5hozJj' => Homelessness [Actually: immigration]\n",
      "'Yesterday, members of the Tipping Point team spoke on @ABHYLN panel highlighting program models that help youth experiencing homelessness meet their needs. Thanks @Google for hosting this critical conversation on ways we can work to #EndYouthHomelessness https://t.co/wVsyFGaqzU' => Homelessness [Actually: Homelessness]\n",
      "'When this Administration threatens immigrant neighbors, California rises to the challenge. Shout out to @MAFpajarito for funneling our collective outrage into scholarship checks that will help thousands of Dreamers remain in our community. #BeATippingPoint\\rhttps://t.co/p6QUZq7TOW' => Homelessness [Actually: Immigration]\n",
      "'Fired up to see @Google + @Coursera partner with @YearUp, @Upwardly_Global and others to build pathways into the 21st century workforce for anyone with a will to learn. @VentureBeat\\rhttps://t.co/pigLUtsy0d' => Homelessness [Actually: corporate Social Responsibility ]\n",
      "'â\\x80°Ã\\x9bÃ\\x8fWeâ\\x80°Ã\\x9bÂªre trying to leverage private dollars to build housing faster and more affordably - our role is to test and learn and advance new solutions that ultimately serve more people.â\\x80°Ã\\x9bÂ\\x9d - Stephany Ashley of @tippingpoint speaking at @AIGASF on innovating solutions to homelessness https://t.co/Ka7g3PhZvP' => Homelessness [Actually: Homelessness]\n",
      "'\"Poverty is a decision we make as a nation, and thereby it\\'s within our power to end it.\" Inspiring words from @JQ_MAF, Founder+CEO of @MAF_pajarito https://t.co/ySGtRZbpSB' => Homelessness [Actually: Poverty ]\n",
      "'#TBT #BandTogether is back! Join us Dec. 14 at @BillGrahamCivic to continue support for #NorthBay fire relief + recovery. Tix on sale Friday 10 am: https://t.co/Au0gaqlYlL https://t.co/J3muY9q93k' => Fire Relief [Actually: Fire Relief]\n",
      "'Proud to stand with @Twilio and all our partners to support #NorthBayFire recovery efforts. #BandTogetherBayArea https://t.co/OhmodUpXgX' => Fire Relief [Actually: Fire Relief]\n",
      "'#BandTogetherBayArea - Thanks to @LiveNationSF and all sponsors rallying our community to support #NorthBayFire relief. See you Nov. 9! https://t.co/TM7rrG9IN4' => Fire Relief [Actually: Fire Relief]\n",
      "'Thrilled to see @deadandcompany @RaphaelSaadiq + @Rancid join the lineup! #BandTogether for #NorthBayFire relief: https://t.co/iHD4hXfQji' => Fire Relief [Actually: Fire Relief]\n",
      "\"Empowering and coaching new parents can change a child's future. Proud to support @NFP_nursefamily in the #BayArea\\rhttps://t.co/WFWVndNtZ6\" => Homelessness [Actually: Early Childhood]\n",
      "\"For your listening - @Stitcher + @EdSource examine the needs of California's most vulnerable students.\\rhttps://t.co/ch4Xz0RA4n\" => Homelessness [Actually: Education]\n",
      "'Proud to support @RocketshipEd and their service to kids throughout the #BayArea - Keep up the great work! #BeATippingPoint https://t.co/KEXfyyya3a' => Homelessness [Actually: Education]\n",
      "'Thank you for building on-ramps for talent in our community! #BeATippingPoint https://t.co/5deVN65ySO' => Homelessness [Actually: employment]\n"
     ]
    }
   ],
   "source": [
    "docs_new = ['God is love', 'Education are great']\n",
    "X_new_counts = count_vect.transform(tweet_test_data)\n",
    "X_new_tfidf = tf_transformer.transform(X_new_counts)\n",
    "\n",
    "predicted = clf.predict(X_new_tfidf)\n",
    "\n",
    "for doc, category, truth in zip(tweet_test_data, predicted, tweet_test_target):\n",
    "    print('%r => %s [Actually: %s]' % (doc, category, truth))"
   ]
  },
  {
   "cell_type": "markdown",
   "metadata": {},
   "source": [
    "So, we've created a 'Homelessness' (and to a much lesser extent, 'Education') detector that happens to be right a lot. This isn't surprising given the disproportionate number of homelessness tweets in the training set.\n",
    "All the parts are in place now, why don't you play with it a bit? It would be good to add a metric to quantify accuracy more precisely (just see class NBs for examples). Once that is in place, start making tweaks to try and improve it. It might not be a bad idea to try and add more training samples."
   ]
  },
  {
   "cell_type": "markdown",
   "metadata": {},
   "source": [
    "### Building a pipeline"
   ]
  },
  {
   "cell_type": "code",
   "execution_count": 16,
   "metadata": {},
   "outputs": [],
   "source": [
    "from sklearn.pipeline import Pipeline\n",
    "\n",
    "text_clf = Pipeline([('vect', CountVectorizer()),\n",
    "                     ('tfidf', TfidfTransformer()),\n",
    "                     ('clf', MultinomialNB()),\n",
    "])"
   ]
  },
  {
   "cell_type": "code",
   "execution_count": 17,
   "metadata": {},
   "outputs": [
    {
     "data": {
      "text/plain": [
       "Pipeline(memory=None,\n",
       "     steps=[('vect', CountVectorizer(analyzer='word', binary=False, decode_error='strict',\n",
       "        dtype=<class 'numpy.int64'>, encoding='utf-8', input='content',\n",
       "        lowercase=True, max_df=1.0, max_features=None, min_df=1,\n",
       "        ngram_range=(1, 1), preprocessor=None, stop_words=None,\n",
       "        strip...inear_tf=False, use_idf=True)), ('clf', MultinomialNB(alpha=1.0, class_prior=None, fit_prior=True))])"
      ]
     },
     "execution_count": 17,
     "metadata": {},
     "output_type": "execute_result"
    }
   ],
   "source": [
    "text_clf.fit(tweet_train_data, tweet_train_target)  "
   ]
  },
  {
   "cell_type": "markdown",
   "metadata": {},
   "source": [
    "### Evaluation of the performance on the test set"
   ]
  },
  {
   "cell_type": "code",
   "execution_count": 18,
   "metadata": {},
   "outputs": [
    {
     "data": {
      "text/plain": [
       "0.3793103448275862"
      ]
     },
     "execution_count": 18,
     "metadata": {},
     "output_type": "execute_result"
    }
   ],
   "source": [
    "import numpy as np\n",
    "\n",
    "df_test = df_raw_tweet[~msk]\n",
    "docs_test = tweet_test_data\n",
    "predicted = text_clf.predict(docs_test)\n",
    "np.mean(predicted == tweet_test_target) "
   ]
  },
  {
   "cell_type": "code",
   "execution_count": 19,
   "metadata": {},
   "outputs": [
    {
     "data": {
      "text/plain": [
       "0.5862068965517241"
      ]
     },
     "execution_count": 19,
     "metadata": {},
     "output_type": "execute_result"
    }
   ],
   "source": [
    "from sklearn.linear_model import SGDClassifier\n",
    "\n",
    "text_clf = Pipeline([('vect', CountVectorizer()),\n",
    "                     ('tfidf', TfidfTransformer()),\n",
    "                     ('clf', SGDClassifier(loss='hinge', penalty='l2',\n",
    "                                           alpha=1e-3, random_state=42,\n",
    "                                           max_iter=5, tol=None)),\n",
    "])\n",
    "text_clf.fit(tweet_train_data, tweet_train_target)  \n",
    "predicted = text_clf.predict(docs_test)\n",
    "np.mean(predicted == tweet_test_target)  "
   ]
  },
  {
   "cell_type": "code",
   "execution_count": 31,
   "metadata": {},
   "outputs": [
    {
     "name": "stdout",
     "output_type": "stream",
     "text": [
      "                                  precision    recall  f1-score   support\n",
      "\n",
      "Corporate Social Responsibility        0.00      0.00      0.00         0\n",
      "                 Early Childhood       1.00      1.00      1.00         2\n",
      "                       Education       0.67      0.50      0.57         4\n",
      "                 Event Promotion       0.00      0.00      0.00         1\n",
      "                     Fire Relief       0.71      0.83      0.77         6\n",
      "                    Homelessness       0.75      0.86      0.80         7\n",
      "                     Immigration       0.50      1.00      0.67         1\n",
      "                      Nonprofits       0.00      0.00      0.00         0\n",
      "                        Poverty        0.00      0.00      0.00         1\n",
      "                            Race       0.33      0.33      0.33         3\n",
      "corporate Social Responsibility        0.00      0.00      0.00         1\n",
      "                      employment       0.00      0.00      0.00         1\n",
      "                 event Promotion       0.00      0.00      0.00         1\n",
      "                     immigration       0.00      0.00      0.00         1\n",
      "\n",
      "                     avg / total       0.54      0.59      0.56        29\n",
      "\n"
     ]
    },
    {
     "name": "stderr",
     "output_type": "stream",
     "text": [
      "/anaconda3/lib/python3.6/site-packages/sklearn/metrics/classification.py:1135: UndefinedMetricWarning: Precision and F-score are ill-defined and being set to 0.0 in labels with no predicted samples.\n",
      "  'precision', 'predicted', average, warn_for)\n",
      "/anaconda3/lib/python3.6/site-packages/sklearn/metrics/classification.py:1137: UndefinedMetricWarning: Recall and F-score are ill-defined and being set to 0.0 in labels with no true samples.\n",
      "  'recall', 'true', average, warn_for)\n"
     ]
    },
    {
     "data": {
      "text/plain": [
       "array([[0, 0, 0, 0, 0, 0, 0, 0, 0, 0, 0, 0, 0, 0],\n",
       "       [0, 2, 0, 0, 0, 0, 0, 0, 0, 0, 0, 0, 0, 0],\n",
       "       [0, 0, 2, 0, 0, 0, 0, 1, 0, 1, 0, 0, 0, 0],\n",
       "       [0, 0, 0, 0, 1, 0, 0, 0, 0, 0, 0, 0, 0, 0],\n",
       "       [0, 0, 0, 0, 5, 0, 0, 0, 0, 1, 0, 0, 0, 0],\n",
       "       [0, 0, 0, 0, 0, 6, 1, 0, 0, 0, 0, 0, 0, 0],\n",
       "       [0, 0, 0, 0, 0, 0, 1, 0, 0, 0, 0, 0, 0, 0],\n",
       "       [0, 0, 0, 0, 0, 0, 0, 0, 0, 0, 0, 0, 0, 0],\n",
       "       [0, 0, 0, 0, 0, 1, 0, 0, 0, 0, 0, 0, 0, 0],\n",
       "       [0, 0, 1, 0, 0, 1, 0, 0, 0, 1, 0, 0, 0, 0],\n",
       "       [1, 0, 0, 0, 0, 0, 0, 0, 0, 0, 0, 0, 0, 0],\n",
       "       [0, 0, 0, 1, 0, 0, 0, 0, 0, 0, 0, 0, 0, 0],\n",
       "       [0, 0, 0, 1, 0, 0, 0, 0, 0, 0, 0, 0, 0, 0],\n",
       "       [0, 0, 0, 0, 1, 0, 0, 0, 0, 0, 0, 0, 0, 0]])"
      ]
     },
     "execution_count": 31,
     "metadata": {},
     "output_type": "execute_result"
    }
   ],
   "source": [
    "from sklearn import metrics\n",
    "\n",
    "print(metrics.classification_report(tweet_test_target, predicted))\n",
    "\n",
    "metrics.confusion_matrix(tweet_test_target, predicted)"
   ]
  },
  {
   "cell_type": "code",
   "execution_count": 34,
   "metadata": {},
   "outputs": [
    {
     "name": "stdout",
     "output_type": "stream",
     "text": [
      "Confusion matrix, without normalization\n",
      "[[0 0 0 0 0 0 0 0 0 0 0 0 0 0]\n",
      " [0 2 0 0 0 0 0 0 0 0 0 0 0 0]\n",
      " [0 0 2 0 0 0 0 1 0 1 0 0 0 0]\n",
      " [0 0 0 0 1 0 0 0 0 0 0 0 0 0]\n",
      " [0 0 0 0 5 0 0 0 0 1 0 0 0 0]\n",
      " [0 0 0 0 0 6 1 0 0 0 0 0 0 0]\n",
      " [0 0 0 0 0 0 1 0 0 0 0 0 0 0]\n",
      " [0 0 0 0 0 0 0 0 0 0 0 0 0 0]\n",
      " [0 0 0 0 0 1 0 0 0 0 0 0 0 0]\n",
      " [0 0 1 0 0 1 0 0 0 1 0 0 0 0]\n",
      " [1 0 0 0 0 0 0 0 0 0 0 0 0 0]\n",
      " [0 0 0 1 0 0 0 0 0 0 0 0 0 0]\n",
      " [0 0 0 1 0 0 0 0 0 0 0 0 0 0]\n",
      " [0 0 0 0 1 0 0 0 0 0 0 0 0 0]]\n",
      "Normalized confusion matrix\n",
      "[[ nan  nan  nan  nan  nan  nan  nan  nan  nan  nan  nan  nan  nan  nan]\n",
      " [0.   1.   0.   0.   0.   0.   0.   0.   0.   0.   0.   0.   0.   0.  ]\n",
      " [0.   0.   0.5  0.   0.   0.   0.   0.25 0.   0.25 0.   0.   0.   0.  ]\n",
      " [0.   0.   0.   0.   1.   0.   0.   0.   0.   0.   0.   0.   0.   0.  ]\n",
      " [0.   0.   0.   0.   0.83 0.   0.   0.   0.   0.17 0.   0.   0.   0.  ]\n",
      " [0.   0.   0.   0.   0.   0.86 0.14 0.   0.   0.   0.   0.   0.   0.  ]\n",
      " [0.   0.   0.   0.   0.   0.   1.   0.   0.   0.   0.   0.   0.   0.  ]\n",
      " [ nan  nan  nan  nan  nan  nan  nan  nan  nan  nan  nan  nan  nan  nan]\n",
      " [0.   0.   0.   0.   0.   1.   0.   0.   0.   0.   0.   0.   0.   0.  ]\n",
      " [0.   0.   0.33 0.   0.   0.33 0.   0.   0.   0.33 0.   0.   0.   0.  ]\n",
      " [1.   0.   0.   0.   0.   0.   0.   0.   0.   0.   0.   0.   0.   0.  ]\n",
      " [0.   0.   0.   1.   0.   0.   0.   0.   0.   0.   0.   0.   0.   0.  ]\n",
      " [0.   0.   0.   1.   0.   0.   0.   0.   0.   0.   0.   0.   0.   0.  ]\n",
      " [0.   0.   0.   0.   1.   0.   0.   0.   0.   0.   0.   0.   0.   0.  ]]\n"
     ]
    },
    {
     "name": "stderr",
     "output_type": "stream",
     "text": [
      "/anaconda3/lib/python3.6/site-packages/ipykernel_launcher.py:18: RuntimeWarning: invalid value encountered in true_divide\n"
     ]
    },
    {
     "data": {
      "image/png": "[encoded data removed]",
      "text/plain": [
       "<matplotlib.figure.Figure at 0x1a1fab7b00>"
      ]
     },
     "metadata": {},
     "output_type": "display_data"
    },
    {
     "data": {
      "image/png": "[encoded data removed]",
      "text/plain": [
       "<matplotlib.figure.Figure at 0x1a1fa9c128>"
      ]
     },
     "metadata": {},
     "output_type": "display_data"
    }
   ],
   "source": [
    "import itertools\n",
    "import numpy as np\n",
    "import matplotlib.pyplot as plt\n",
    "\n",
    "from sklearn import svm, datasets\n",
    "from sklearn.model_selection import train_test_split\n",
    "from sklearn.metrics import confusion_matrix\n",
    "\n",
    "def plot_confusion_matrix(cm, category,\n",
    "                          normalize=False,\n",
    "                          title='Confusion matrix',\n",
    "                          cmap=plt.cm.Blues):\n",
    "    \"\"\"\n",
    "    This function prints and plots the confusion matrix.\n",
    "    Normalization can be applied by setting `normalize=True`.\n",
    "    \"\"\"\n",
    "    if normalize:\n",
    "        cm = cm.astype('float') / cm.sum(axis=1)[:, np.newaxis]\n",
    "        print(\"Normalized confusion matrix\")\n",
    "    else:\n",
    "        print('Confusion matrix, without normalization')\n",
    "\n",
    "    print(cm)\n",
    "\n",
    "    plt.imshow(cm, interpolation='nearest', cmap=cmap)\n",
    "    plt.title(title)\n",
    "    plt.colorbar()\n",
    "    tick_marks = np.arange(len(category))\n",
    "    plt.xticks(tick_marks, category, rotation=45)\n",
    "    plt.yticks(tick_marks, category)\n",
    "\n",
    "    fmt = '.2f' if normalize else 'd'\n",
    "    thresh = cm.max() / 2.\n",
    "    for i, j in itertools.product(range(cm.shape[0]), range(cm.shape[1])):\n",
    "        plt.text(j, i, format(cm[i, j], fmt),\n",
    "                 horizontalalignment=\"center\",\n",
    "                 color=\"white\" if cm[i, j] > thresh else \"black\")\n",
    "\n",
    "    plt.tight_layout()\n",
    "    plt.ylabel('True label')\n",
    "    plt.xlabel('Predicted label')\n",
    "\n",
    "# Compute confusion matrix\n",
    "cnf_matrix = confusion_matrix(tweet_test_target, predicted)\n",
    "np.set_printoptions(precision=2)\n",
    "\n",
    "# Plot non-normalized confusion matrix\n",
    "plt.figure()\n",
    "plot_confusion_matrix(cnf_matrix, category,\n",
    "                      title='Confusion matrix, without normalization')\n",
    "\n",
    "# Plot normalized confusion matrix\n",
    "plt.figure()\n",
    "plot_confusion_matrix(cnf_matrix, category, normalize=True,\n",
    "                      title='Normalized confusion matrix')\n",
    "\n",
    "plt.show()"
   ]
  },
  {
   "cell_type": "code",
   "execution_count": null,
   "metadata": {},
   "outputs": [],
   "source": []
  }
 ],
 "metadata": {
  "kernelspec": {
   "display_name": "Python 3",
   "language": "python",
   "name": "python3"
  },
  "language_info": {
   "codemirror_mode": {
    "name": "ipython",
    "version": 3
   },
   "file_extension": ".py",
   "mimetype": "text/x-python",
   "name": "python",
   "nbconvert_exporter": "python",
   "pygments_lexer": "ipython3",
   "version": "3.6.4"
  }
 },
 "nbformat": 4,
 "nbformat_minor": 2
}
