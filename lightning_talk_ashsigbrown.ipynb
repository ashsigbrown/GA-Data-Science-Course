{
 "cells": [
  {
   "cell_type": "markdown",
   "metadata": {},
   "source": [
    "# ![](https://ga-dash.s3.amazonaws.com/production/assets/logo-9f88ae6c9c3871690e33280fcf557f33.png) RUBRIC\n",
    "**Final Project 1 | Data Science** \t \t\t\t\t\t\t\n",
    "\n",
    "Your project will be assessed using the following standards, as defined by the data science workflow:\n",
    "\n",
    "- **Identify & Acquire**\n",
    "\n",
    "Acceptable performance for this standard is based on how well you've applied specific learning goals within your deliverable. To review the full list of data science standards, see the course syllabus.\n",
    "\n",
    "---\n",
    "\n",
    "## IDENTIFY & ACQUIRE\n",
    "**Meets Expectations**: Did you: Demonstrate comprehension of project objectives? Articulate the goals and criteria for success? Create guiding questions to identify data and potential methods of analysis? Application of these learning goals will be assessed using the requirements below:\n",
    "\n",
    "#### Performance Evaluation\n",
    "| Requirements | Incomplete (0) | Does Not Meet Expectations (1) | Meets Expectations (2) | Exceeds Expectations (3) |\n",
    "|---|---|---|---|---|\n",
    "| Explain two to three potential projects | | | |X|\n",
    "| Each set should include a problem statement, a hypothesis, and potential data sets | | | |X|\n",
    "| Be 2-3 minutes in duration | | | |X|\n",
    "| Demonstrate familiarity with the domain of the data | | | |X|\n",
    "\n",
    "#### Notes:   \n",
    "Really nice job on Thursday. I think it's noteworthy that your slides were easily the most professional-looking, which is important in this field.\n",
    "\n",
    "**Pros:**\n",
    "- very specific, well-defined problems\n",
    "- meaningful.\n",
    "\n",
    "**Cons:**\n",
    "- rather specific, so there are less likely to be tutorials/blog articles corresponding to this exact topic\n",
    "- most results regarding using statistical modeling to increase/retain donations are ads\n",
    "\n",
    "This article may be analogous to what you're trying to do.  \n",
    "http://www.philipkalinda.com/ds5.html  \n",
    "I found an article that seems relevant below. I know it's a lot of information, but it might be a useful resource.  \n",
    "https://arxiv.org/pdf/1503.02729.pdf  \n",
    "I also thought this might be helpful given your interests. There's very little out there on this topic, it seems...  \n",
    "https://www.kdnuggets.com/2018/01/nonprofits-data-science.html  \n",
    "Finally, here is an example of the sentiment classification of tweets I mentioned (lots of other examples out there, too).  \n",
    "http://zablo.net/blog/post/twitter-sentiment-analysis-python-scikit-word2vec-nltk-xgboost  \n",
    "\n",
    "Let me know which project you decide on and how I can help moving forward.\n",
    "\n",
    "See class feedback below.\n",
    "\n",
    "---\n",
    "\n",
    "## Score:\n",
    "Based on the requirements, you can earn a maximum of  **12**  points on this project. \n",
    "\n",
    "#### Your total score is: **#**\n",
    "\n",
    "12\n",
    "\n",
    "---\n"
   ]
  },
  {
   "cell_type": "markdown",
   "metadata": {},
   "source": [
    "#### Peer feedback:\n",
    "- \"I worked with influencer marketing and I find really interesting the social media issue and trying to decide actually who is the best performer and what is driving the best engagement.\"\n",
    "- \"Very cool! #3 is a cool question\"\n",
    "- \"Interesting project ideas! It seems like the data will be used for future actions and making changes -- but do you have a hypothesis on what the data will show once analyzed? For example -- I believe a tweet from someone with more followers will show greater engagement than someone with less followers.\"\n",
    "- \"I like all the projects. I like the 3rd one most, seem to have the biggest business impact to the organization.\"\n",
    "- \"P2, I would look into GIS data to join with the census data.\"\n",
    "- \"donar data project can be used in lot of other industry.\"\n",
    "- \"Excellent project ideas, very impressive non-profit work\""
   ]
  }
 ],
 "metadata": {
  "kernelspec": {
   "display_name": "Python 2",
   "language": "python",
   "name": "python2"
  },
  "language_info": {
   "codemirror_mode": {
    "name": "ipython",
    "version": 2
   },
   "file_extension": ".py",
   "mimetype": "text/x-python",
   "name": "python",
   "nbconvert_exporter": "python",
   "pygments_lexer": "ipython2",
   "version": "2.7.14"
  }
 },
 "nbformat": 4,
 "nbformat_minor": 2
}
