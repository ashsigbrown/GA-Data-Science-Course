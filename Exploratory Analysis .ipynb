{
 "cells": [
  {
   "cell_type": "markdown",
   "metadata": {},
   "source": [
    "Exploratory analysis of Twitter and Facebook Data"
   ]
  },
  {
   "cell_type": "code",
   "execution_count": 4,
   "metadata": {},
   "outputs": [
    {
     "name": "stderr",
     "output_type": "stream",
     "text": [
      "/anaconda3/lib/python3.6/site-packages/statsmodels/compat/pandas.py:56: FutureWarning: The pandas.core.datetools module is deprecated and will be removed in a future version. Please use the pandas.tseries module instead.\n",
      "  from pandas.core import datetools\n"
     ]
    }
   ],
   "source": [
    "from __future__ import division\n",
    "import pandas as pd\n",
    "import numpy as np\n",
    "import matplotlib.pyplot as plt\n",
    "import statsmodels.api as sm\n",
    "import pylab as pl\n",
    "import numpy as np\n",
    "\n",
    "%matplotlib inline"
   ]
  },
  {
   "cell_type": "code",
   "execution_count": 19,
   "metadata": {},
   "outputs": [
    {
     "name": "stdout",
     "output_type": "stream",
     "text": [
      "       Tweet id                                    Tweet_permalink  \\\n",
      "0  9.799020e+17  https://twitter.com/tippingpoint/status/979902...   \n",
      "1  9.798700e+17  https://twitter.com/tippingpoint/status/979869...   \n",
      "2  9.798630e+17  https://twitter.com/tippingpoint/status/979862...   \n",
      "3  9.797680e+17  https://twitter.com/tippingpoint/status/979767...   \n",
      "4  9.794570e+17  https://twitter.com/tippingpoint/status/979457...   \n",
      "\n",
      "                                          Tweet_text        Attribute  \\\n",
      "0  Thank you to our #TippingPointGrantees! It's a...  Event Promotion   \n",
      "1  .@NewTeacherCtr's newly released program stand...        Education   \n",
      "2  The majority of our chronically homeless neigh...     Homelessness   \n",
      "3  Congratulations to AD-10 Woman of the Year Luc...      Immigration   \n",
      "4  Thanks for the shout out @New_Sincerity! Our i...       Nonprofits   \n",
      "\n",
      "                     time  impressions  engagements  url clicks  \n",
      "0  2018-03-31 02:05 +0000          980            9           5  \n",
      "1  2018-03-30 23:55 +0000         2676           40           4  \n",
      "2  2018-03-30 23:27 +0000         1352           10           1  \n",
      "3  2018-03-30 17:11 +0000         1018            5           0  \n",
      "4  2018-03-29 20:37 +0000          869            2           0  \n"
     ]
    }
   ],
   "source": [
    "df_raw_tweet = pd.read_csv('./Datasets/Twitter_Training_Data.csv', encoding='latin1')\n",
    "print (df_raw_tweet.head())"
   ]
  },
  {
   "cell_type": "code",
   "execution_count": 20,
   "metadata": {},
   "outputs": [
    {
     "data": {
      "text/plain": [
       "Tweet id           100\n",
       "Tweet_permalink    100\n",
       "Tweet_text         100\n",
       "Attribute          100\n",
       "time               100\n",
       "impressions        100\n",
       "engagements        100\n",
       "url clicks         100\n",
       "dtype: int64"
      ]
     },
     "execution_count": 20,
     "metadata": {},
     "output_type": "execute_result"
    }
   ],
   "source": [
    "df_raw_tweet.count()"
   ]
  },
  {
   "cell_type": "code",
   "execution_count": 21,
   "metadata": {},
   "outputs": [
    {
     "name": "stdout",
     "output_type": "stream",
     "text": [
      "           Tweet id   impressions  engagements  url clicks\n",
      "count  1.000000e+02    100.000000   100.000000  100.000000\n",
      "mean   9.701462e+17   1575.740000    17.490000    2.890000\n",
      "std    6.782459e+15   2147.196733    29.522631    4.636036\n",
      "min    9.581530e+17     50.000000     0.000000    0.000000\n",
      "25%    9.639050e+17    865.000000     5.000000    0.000000\n",
      "50%    9.711950e+17   1146.500000    10.500000    1.000000\n",
      "75%    9.765255e+17   1485.250000    20.000000    4.250000\n",
      "max    9.799020e+17  17606.000000   273.000000   23.000000\n"
     ]
    }
   ],
   "source": [
    "print(df_raw_tweet.describe())"
   ]
  },
  {
   "cell_type": "code",
   "execution_count": 23,
   "metadata": {},
   "outputs": [
    {
     "data": {
      "text/plain": [
       "<matplotlib.axes._subplots.AxesSubplot at 0x1c18d9ab00>"
      ]
     },
     "execution_count": 23,
     "metadata": {},
     "output_type": "execute_result"
    },
    {
     "data": {
      "image/png": "[encoded data removed]",
      "text/plain": [
       "<matplotlib.figure.Figure at 0x1c18d9a4e0>"
      ]
     },
     "metadata": {},
     "output_type": "display_data"
    }
   ],
   "source": [
    "df_raw_tweet['impressions'].plot(kind='box')"
   ]
  },
  {
   "cell_type": "code",
   "execution_count": 25,
   "metadata": {},
   "outputs": [
    {
     "data": {
      "text/plain": [
       "<matplotlib.axes._subplots.AxesSubplot at 0x1126ebcf8>"
      ]
     },
     "execution_count": 25,
     "metadata": {},
     "output_type": "execute_result"
    },
    {
     "data": {
      "image/png": "[encoded data removed]",
      "text/plain": [
       "<matplotlib.figure.Figure at 0x1c18c33be0>"
      ]
     },
     "metadata": {},
     "output_type": "display_data"
    }
   ],
   "source": [
    "df_raw_tweet['engagements'].plot(kind='box')"
   ]
  },
  {
   "cell_type": "code",
   "execution_count": 28,
   "metadata": {},
   "outputs": [
    {
     "data": {
      "text/plain": [
       "<function matplotlib.pyplot.show>"
      ]
     },
     "execution_count": 28,
     "metadata": {},
     "output_type": "execute_result"
    }
   ],
   "source": [
    "df_raw_tweet.hist\n",
    "pl.show"
   ]
  },
  {
   "cell_type": "code",
   "execution_count": 29,
   "metadata": {},
   "outputs": [
    {
     "data": {
      "text/html": [
       "<div>\n",
       "<style scoped>\n",
       "    .dataframe tbody tr th:only-of-type {\n",
       "        vertical-align: middle;\n",
       "    }\n",
       "\n",
       "    .dataframe tbody tr th {\n",
       "        vertical-align: top;\n",
       "    }\n",
       "\n",
       "    .dataframe thead th {\n",
       "        text-align: right;\n",
       "    }\n",
       "</style>\n",
       "<table border=\"1\" class=\"dataframe\">\n",
       "  <thead>\n",
       "    <tr style=\"text-align: right;\">\n",
       "      <th></th>\n",
       "      <th>Tweet id</th>\n",
       "      <th>impressions</th>\n",
       "      <th>engagements</th>\n",
       "      <th>url clicks</th>\n",
       "    </tr>\n",
       "  </thead>\n",
       "  <tbody>\n",
       "    <tr>\n",
       "      <th>Tweet id</th>\n",
       "      <td>1.000000</td>\n",
       "      <td>0.053213</td>\n",
       "      <td>0.138286</td>\n",
       "      <td>0.194190</td>\n",
       "    </tr>\n",
       "    <tr>\n",
       "      <th>impressions</th>\n",
       "      <td>0.053213</td>\n",
       "      <td>1.000000</td>\n",
       "      <td>0.882013</td>\n",
       "      <td>0.634864</td>\n",
       "    </tr>\n",
       "    <tr>\n",
       "      <th>engagements</th>\n",
       "      <td>0.138286</td>\n",
       "      <td>0.882013</td>\n",
       "      <td>1.000000</td>\n",
       "      <td>0.605641</td>\n",
       "    </tr>\n",
       "    <tr>\n",
       "      <th>url clicks</th>\n",
       "      <td>0.194190</td>\n",
       "      <td>0.634864</td>\n",
       "      <td>0.605641</td>\n",
       "      <td>1.000000</td>\n",
       "    </tr>\n",
       "  </tbody>\n",
       "</table>\n",
       "</div>"
      ],
      "text/plain": [
       "             Tweet id  impressions  engagements  url clicks\n",
       "Tweet id     1.000000     0.053213     0.138286    0.194190\n",
       "impressions  0.053213     1.000000     0.882013    0.634864\n",
       "engagements  0.138286     0.882013     1.000000    0.605641\n",
       "url clicks   0.194190     0.634864     0.605641    1.000000"
      ]
     },
     "execution_count": 29,
     "metadata": {},
     "output_type": "execute_result"
    }
   ],
   "source": [
    "df_raw_tweet.corr()"
   ]
  },
  {
   "cell_type": "code",
   "execution_count": null,
   "metadata": {},
   "outputs": [],
   "source": []
  }
 ],
 "metadata": {
  "kernelspec": {
   "display_name": "Python 3",
   "language": "python",
   "name": "python3"
  },
  "language_info": {
   "codemirror_mode": {
    "name": "ipython",
    "version": 3
   },
   "file_extension": ".py",
   "mimetype": "text/x-python",
   "name": "python",
   "nbconvert_exporter": "python",
   "pygments_lexer": "ipython3",
   "version": "3.6.4"
  }
 },
 "nbformat": 4,
 "nbformat_minor": 2
}
